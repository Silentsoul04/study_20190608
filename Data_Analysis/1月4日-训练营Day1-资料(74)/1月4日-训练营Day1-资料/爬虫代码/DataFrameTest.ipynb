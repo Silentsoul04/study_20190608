{
 "cells": [
  {
   "cell_type": "code",
   "execution_count": 1,
   "metadata": {},
   "outputs": [
    {
     "name": "stdout",
     "output_type": "stream",
     "text": [
      "[1 2 3 4 5]\n",
      "0    1\n",
      "1    2\n",
      "2    3\n",
      "3    4\n",
      "4    5\n",
      "dtype: int64\n",
      "0     6\n",
      "1     7\n",
      "2     8\n",
      "3     9\n",
      "4    10\n",
      "dtype: int64\n",
      "   apple\n",
      "0      6\n",
      "1      7\n",
      "2      8\n",
      "3      9\n",
      "4     10\n",
      "0    3\n",
      "1    2\n",
      "2    0\n",
      "3    1\n",
      "dtype: int64\n",
      "0    0\n",
      "1    3\n",
      "2    7\n",
      "3    2\n",
      "dtype: int64\n",
      "   apples  oranges\n",
      "0       3        0\n",
      "1       2        3\n",
      "2       0        7\n",
      "3       1        2\n"
     ]
    }
   ],
   "source": [
    "import numpy as np\n",
    "import pandas as pd\n",
    "print(np.array([1,2,3,4,5]))\n",
    "\n",
    "# print(np.arange(1,10,1))\n",
    "# print(np.array(np.arange(10)))\n",
    "myList = [[0,1],[1,2],[2,3]]\n",
    "# print(np.array(myList))\n",
    "myList1= [[0,5],[1,6],[2,7]]\n",
    "# print(np.array(myList1))\n",
    "List1 = np.array(myList)\n",
    "List2 = np.array(myList1)\n",
    "# print(List1+List2)\n",
    "\n",
    "# print(np.concatenate((List1,List2),axis=1))\n",
    "# print(np.hstack((List1,List2)))\n",
    "\n",
    "ser1 = np.array([1,2,3,4,5])\n",
    "pd1 = pd.Series(ser1,index=np.arange(5))\n",
    "print(pd1)\n",
    "\n",
    "\n",
    "ser2 = np.array([6,7,8,9,10])\n",
    "pd2 = pd.Series(ser2,index=np.arange(5))\n",
    "print(pd2)\n",
    "\n",
    "print(pd.DataFrame(ser2,index=np.arange(5),columns=['apple']))\n",
    "\n",
    "\n",
    "print(pd.Series([3,2,0,1],index=np.arange(4)))\n",
    "print(pd.Series([0,3,7,2],index=np.arange(4)))\n",
    "\n",
    "\n",
    "myList2 = [[3,0],[2,3],[0,7],[1,2]]\n",
    "print(pd.DataFrame(myList2,index=np.arange(4),columns=['apples','oranges']))\n",
    "\n"
   ]
  },
  {
   "cell_type": "code",
   "execution_count": null,
   "metadata": {},
   "outputs": [],
   "source": []
  }
 ],
 "metadata": {
  "kernelspec": {
   "display_name": "Python 3",
   "language": "python",
   "name": "python3"
  },
  "language_info": {
   "codemirror_mode": {
    "name": "ipython",
    "version": 3
   },
   "file_extension": ".py",
   "mimetype": "text/x-python",
   "name": "python",
   "nbconvert_exporter": "python",
   "pygments_lexer": "ipython3",
   "version": "3.7.4"
  },
  "latex_envs": {
   "LaTeX_envs_menu_present": true,
   "autoclose": false,
   "autocomplete": true,
   "bibliofile": "biblio.bib",
   "cite_by": "apalike",
   "current_citInitial": 1,
   "eqLabelWithNumbers": true,
   "eqNumInitial": 1,
   "hotkeys": {
    "equation": "Ctrl-E",
    "itemize": "Ctrl-I"
   },
   "labels_anchors": false,
   "latex_user_defs": false,
   "report_style_numbering": false,
   "user_envs_cfg": false
  },
  "toc": {
   "base_numbering": 1,
   "nav_menu": {},
   "number_sections": true,
   "sideBar": true,
   "skip_h1_title": false,
   "title_cell": "Table of Contents",
   "title_sidebar": "Contents",
   "toc_cell": false,
   "toc_position": {},
   "toc_section_display": true,
   "toc_window_display": false
  }
 },
 "nbformat": 4,
 "nbformat_minor": 2
}
