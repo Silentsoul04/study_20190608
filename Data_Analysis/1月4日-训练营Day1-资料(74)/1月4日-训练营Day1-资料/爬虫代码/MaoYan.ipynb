{
 "cells": [
  {
   "cell_type": "code",
   "execution_count": 1,
   "metadata": {},
   "outputs": [],
   "source": [
    "import json\n",
    "import requests\n",
    "from requests.exceptions import RequestException\n",
    "import re\n",
    "import time\n",
    "\n",
    "def get_one_Page(url):\n",
    "\n",
    "    try:\n",
    "        headers = {\n",
    "            'User-Agent': 'Mozilla/5.0 (Macintosh; Intel Mac OS X 10_12_3) AppleWebKit/537.36 (KHTML, like Gecko) Chrome/58.0.3029.110 Safari/537.36'\n",
    "        }\n",
    "        response = requests.get(url,headers = headers)\n",
    "        if response.status_code==200:\n",
    "            return response.text\n",
    "        return None\n",
    "    except RequestException:\n",
    "        return None\n",
    "\n",
    "def parse_one_page(html):\n",
    "    pattern = re.compile('<dd>.*?board-index.*?>(\\d+)</i>.*?data-src=\"(.*?)\".*?name\"><a'\n",
    "                         +'.*?>(.*?)</a>.*?star\">(.*?)</p>'\n",
    "                          +'.*?releasetime\">(.*?)</p.*?integer\">(.*?)</i>.*?fraction\">(.*?)</i>.*?</dd>', re.S)\n",
    "\n",
    "    items = re.findall(pattern,html)\n",
    "    for item in items:\n",
    "        yield {\n",
    "            'index':item[0],\n",
    "            'image':item[1],\n",
    "            'title':item[2],\n",
    "            'actor':item[3].strip()[3:],\n",
    "            'time':item[4].strip()[5:],\n",
    "            'score':item[5]+item[6]\n",
    "        }\n",
    "\n",
    "def write_to_file(content):\n",
    "    with open('result.txt','a',encoding='utf-8') as f:\n",
    "        f.write(json.dumps(content,ensure_ascii=False)+'\\n')\n",
    "def main(offset):\n",
    "    url='http://maoyan.com/board/4?offset='+str(offset)\n",
    "    html=get_one_Page(url)\n",
    "    for item in parse_one_page(html):\n",
    "        print(item)\n",
    "        write_to_file(item)\n",
    "if __name__ == '__main__':\n",
    "    for i in range(10):\n",
    "        main(offset=i*10)\n",
    "        time.sleep(1)\n",
    "\n",
    "\n",
    "\n"
   ]
  },
  {
   "cell_type": "code",
   "execution_count": null,
   "metadata": {},
   "outputs": [],
   "source": []
  }
 ],
 "metadata": {
  "kernelspec": {
   "display_name": "Python 3",
   "language": "python",
   "name": "python3"
  },
  "language_info": {
   "codemirror_mode": {
    "name": "ipython",
    "version": 3
   },
   "file_extension": ".py",
   "mimetype": "text/x-python",
   "name": "python",
   "nbconvert_exporter": "python",
   "pygments_lexer": "ipython3",
   "version": "3.7.1"
  }
 },
 "nbformat": 4,
 "nbformat_minor": 2
}
